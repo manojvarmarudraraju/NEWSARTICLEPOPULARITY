{
 "cells": [
  {
   "cell_type": "code",
   "execution_count": 1,
   "metadata": {
    "collapsed": true
   },
   "outputs": [],
   "source": [
    "import numpy as np\n",
    "import requests\n",
    "from bs4 import BeautifulSoup as bs\n",
    "import pandas as pd\n",
    "#url='http://archives.ndtv.com/articles/2019-05.html'"
   ]
  },
  {
   "cell_type": "code",
   "execution_count": 2,
   "metadata": {
    "collapsed": true
   },
   "outputs": [],
   "source": [
    "url='https://www.ndtv.com/india-news/lok-sabha-elections-2019-priyanka-gandhi-vadras-response-to-children-abusing-pm-narendra-modi-splits-2031310'"
   ]
  },
  {
   "cell_type": "code",
   "execution_count": 3,
   "metadata": {
    "collapsed": true
   },
   "outputs": [],
   "source": [
    "r = requests.get(url) \n",
    "soup = bs(r.content, 'html5lib')"
   ]
  },
  {
   "cell_type": "code",
   "execution_count": 4,
   "metadata": {
    "collapsed": true
   },
   "outputs": [],
   "source": [
    "iframexx = soup.find_all('iframe')"
   ]
  },
  {
   "cell_type": "code",
   "execution_count": 5,
   "metadata": {},
   "outputs": [
    {
     "data": {
      "text/plain": [
       "[<iframe allowtransparency=\"true\" frameborder=\"0\" scrolling=\"no\" src=\"https://www.ndtv.com/video/embed-player/?id=513868&amp;category=embed&amp;autostart=1&amp;pWidth=650&amp;pHeight=403&amp;embed_type=story&amp;autostart=1\" style=\"border:none; overflow:hidden; width:650px; height:403px; padding-bottom: 0px;padding-left:0px;\"></iframe>,\n",
       " <iframe allowtransparency=\"true\" frameborder=\"0\" height=\"98%\" id=\"ndtvSocialCommentFormRhs\" name=\"ndtvSocialCommentForm\" scrolling=\"no\" src=\"https://social.ndtv.com/static/Comment/Widget/?&amp;key=68a2a311a51a713dad2e777d65ec4db4&amp;link=https%3A%2F%2Fwww.ndtv.com%2Findia-news%2Flok-sabha-elections-2019-priyanka-gandhi-vadras-response-to-children-abusing-pm-narendra-modi-splits-2031310&amp;title=Elections+2019%3A+Priyanka+Gandhi%27s+Response+To+Children+Abusing+PM+Modi+Splits+Twitter&amp;ctype=story-news&amp;identifier=story-news-2031310&amp;enableCommentsSubscription=1&amp;ver=1&amp;reply=1&amp;sorted_by=newest&amp;template=slide&amp;layout=rhs\" width=\"320px\"></iframe>]"
      ]
     },
     "execution_count": 5,
     "metadata": {},
     "output_type": "execute_result"
    }
   ],
   "source": [
    "iframexx[2:]"
   ]
  },
  {
   "cell_type": "code",
   "execution_count": 6,
   "metadata": {},
   "outputs": [],
   "source": [
    "\n",
    "for iframe in iframexx[2:]:\n",
    "    response = requests.get(iframe.attrs['src'])\n",
    "    iframe_soup = bs(response.content, 'html5lib')\n",
    "    "
   ]
  },
  {
   "cell_type": "code",
   "execution_count": 7,
   "metadata": {},
   "outputs": [],
   "source": [
    "b=iframe_soup.find_all('a')\n"
   ]
  },
  {
   "cell_type": "code",
   "execution_count": 9,
   "metadata": {},
   "outputs": [
    {
     "name": "stdout",
     "output_type": "stream",
     "text": [
      "Facebook\n",
      "Twitter\n",
      "Google+\n",
      "Anonymous\n",
      "Reply\n",
      "Like (22)\n",
      "Unlike (18)\n",
      "Reply\n",
      "Like (24)\n",
      "Unlike (32)\n",
      "Like (11)\n",
      "Unlike (12)\n",
      "Reply\n",
      "Like (35)\n",
      "Unlike (20)\n",
      "Reply\n",
      "Like (67)\n",
      "Unlike (47)\n",
      "Reply\n",
      "Like (57)\n",
      "Unlike (58)\n",
      "Reply\n",
      "Like (34)\n",
      "Unlike (21)\n",
      "Reply\n",
      "Like (47)\n",
      "Unlike (29)\n",
      "Like (7)\n",
      "Unlike (6)\n",
      "Reply\n",
      "Like (40)\n",
      "Unlike (23)\n",
      "Like (27)\n",
      "Unlike (17)\n",
      "Reply\n",
      "Like (33)\n",
      "Unlike (28)\n",
      "Reply\n",
      "Like (90)\n",
      "Unlike (37)\n",
      "More Comments\n"
     ]
    }
   ],
   "source": [
    "for i in b:\n",
    "    print(i.get_text())"
   ]
  },
  {
   "cell_type": "code",
   "execution_count": 15,
   "metadata": {},
   "outputs": [
    {
     "data": {
      "text/plain": [
       "<a href=\"javascript:void(0);\" onclick=\"javascript:getMoreComments('https://social.ndtv.com/static/Comment/Widget/?key=68a2a311a51a713dad2e777d65ec4db4&amp;link=https%3A%2F%2Fwww.ndtv.com%2Findia-news%2Flok-sabha-elections-2019-priyanka-gandhi-vadras-response-to-children-abusing-pm-narendra-modi-splits-2031310&amp;title=Elections+2019%3A+Priyanka+Gandhi%26%23039%3Bs+Response+To+Children+Abusing+PM+Modi+Splits+Twitter&amp;identifier=story-news-2031310&amp;size=&amp;ctype=story-news&amp;sorted_by=newest&amp;template=paging_slide&amp;ratings=0&amp;iframeid=ndtvSocialCommentForm&amp;reply=1','1','10','58');\">More Comments</a>"
      ]
     },
     "execution_count": 15,
     "metadata": {},
     "output_type": "execute_result"
    }
   ],
   "source": [
    "b[len(b)-1]"
   ]
  },
  {
   "cell_type": "code",
   "execution_count": 12,
   "metadata": {},
   "outputs": [],
   "source": [
    "response=requests.get(url+b[len(b)-1].attrs['onclick'])\n",
    "soup=bs(response.content,'html5lib')"
   ]
  },
  {
   "cell_type": "code",
   "execution_count": 14,
   "metadata": {},
   "outputs": [
    {
     "data": {
      "text/plain": [
       "[<a alt=\"NDTV\" href=\"https://www.ndtv.com/\" style=\"cursor: default; text-decoration: none; color:#FFFFFF;\">NDTV</a>,\n",
       " <a href=\"https://www.ndtv.com/business\" title=\"Business\">Business</a>,\n",
       " <a href=\"https://khabar.ndtv.com/\" title=\" हिन्दी\"> हिन्दी</a>,\n",
       " <a href=\"http://movies.ndtv.com/\" title=\"Movies\">Movies</a>,\n",
       " <a href=\"https://sports.ndtv.com/cricket\" title=\"Cricket\">Cricket</a>,\n",
       " <a href=\"https://swirlster.ndtv.com\" title=\"Lifestyle\">Lifestyle</a>,\n",
       " <a href=\"https://doctor.ndtv.com/\" title=\"Health\">Health</a>,\n",
       " <a href=\"https://food.ndtv.com/\" title=\"Food\">Food</a>,\n",
       " <a href=\"https://gadgets.ndtv.com/\" title=\"Tech\">Tech</a>,\n",
       " <a class=\"hop\" href=\"https://hop.live/?pfrom=home-header-globalnav\">HOP</a>,\n",
       " <a href=\"https://auto.ndtv.com\" title=\"Auto\">Auto</a>,\n",
       " <a href=\"https://swachhindia.ndtv.com\" title=\"Swasth\">Swasth</a>,\n",
       " <a href=\"https://www.ndtv.com/bengali\" title=\"বাংলা\">বাংলা</a>,\n",
       " <a href=\"https://www.ndtv.com/tamil\" title=\"தமிழ்\">தமிழ்</a>,\n",
       " <a href=\"https://www.ndtv.com/page/apps/\" title=\"Apps\">Apps</a>,\n",
       " <a href=\"https://www.railbeeps.com\" title=\"Trains\">Trains</a>,\n",
       " <a href=\"https://www.mojarto.com\" title=\"Art\">Art</a>,\n",
       " <a href=\"https://www.ndtv.com/rss\"><span class=\"icon_rss\"></span></a>,\n",
       " <a href=\"https://www.ndtv.com/\"><img alt=\"Latest News Today\" src=\"https://cdn.ndtv.com/static/ndtv_2014/images/ndtvlogo_blk.png?1\" title=\"News\"/></a>,\n",
       " <a href=\"https://www.ndtv.com/\" itemprop=\"item\"><span itemprop=\"name\">Home</span></a>,\n",
       " <a href=\"https://www.ndtv.com/india\" itemprop=\"item\" title=\"All India\"><span itemprop=\"name\">All India</span></a>,\n",
       " <a href=\"https://www.ndtv.com/\"><img alt=\"Ndtv\" src=\"https://cdn.ndtv.com/static/ndtv_2014/images/sticky_nav_ndtvlogo.png\"/></a>,\n",
       " <a href=\"#\" onclick=\"return submit_topic_form('');\"></a>,\n",
       " <a href=\"#Comments\"><span class=\"ndtv-detailp-comments-count\">COMMENTS</span><b></b></a>,\n",
       " <a href=\"https://www.ndtv.com/video/live/channel/ndtv24x7\">Live TV</a>,\n",
       " <a href=\"https://www.ndtv.com/latest\">Latest</a>,\n",
       " <a href=\"https://www.ndtv.com/india\">India</a>,\n",
       " <a href=\"https://www.ndtv.com/opinion\">Opinion</a>,\n",
       " <a href=\"https://www.ndtv.com/cities\">Cities</a>,\n",
       " <a href=\"https://www.ndtv.com/world-news\">World</a>,\n",
       " <a href=\"https://www.ndtv.com/offbeat\">OffBeat</a>,\n",
       " <a href=\"https://www.ndtv.com/video\">Videos</a>,\n",
       " <a href=\"https://www.ndtv.com/trends\">Trends</a>,\n",
       " <a href=\"https://www.ndtv.com/tv-schedule\">Schedule</a>,\n",
       " <a href=\"https://www.ndtv.com/education\">Education</a>,\n",
       " <a href=\"https://www.ndtv.com/science\">Science</a>,\n",
       " <a href=\"https://www.ndtv.com/people\">People</a>,\n",
       " <a href=\"https://www.ndtv.com/diaspora\">Indians Abroad</a>,\n",
       " <a href=\"https://www.ndtv.com/south\">South</a>,\n",
       " <a href=\"https://www.ndtv.com/cheat-sheet\">Cheat Sheet</a>,\n",
       " <a href=\"https://www.ndtv.com/photos\">Photos</a>,\n",
       " <a href=\"https://social.ndtv.com/static/Weather/report/\">Weather</a>,\n",
       " <a href=\"https://www.ndtv.com/convergence/ndtv/new/NDTVNewsAlert.aspx\">News Alerts</a>,\n",
       " <a href=\"javascript:void(0)\" id=\"open\" onclick=\"usr_clicked=true;loadRelatedContent();\"></a>,\n",
       " <a href=\"javascript:void(0)\" id=\"close\"></a>,\n",
       " <a href=\"https://www.ndtv.com/india\">All India</a>,\n",
       " <a href=\"https://www.ndtv.com/topic/deepshikha-ghosh\"><span itemprop=\"author\" itemscope=\"\" itemtype=\"https://schema.org/Person\"><span itemprop=\"name\">Deepshikha Ghosh</span></span></a>,\n",
       " <a class=\"n_tw\" href=\"javascript:void(0);\" onclick=\"shareOpen('https://twitter.com/intent/tweet?url=https%3A%2F%2Fwww.ndtv.com%2Findia-news%2Flok-sabha-elections-2019-priyanka-gandhi-vadras-response-to-children-abusing-pm-narendra-modi-splits-2031310&amp;text=Elections+2019%3A+Priyanka+Gandhi%27s+Response+To+Children+Abusing+PM+Modi+Splits+Twitter&amp;via=ndtv', 650, 420);\"></a>,\n",
       " <a class=\"n_fb\" href=\"javascript:void(0);\" onclick=\"shareOpen('https://www.facebook.com/sharer/sharer.php?u=https%3A%2F%2Fwww.ndtv.com%2Findia-news%2Flok-sabha-elections-2019-priyanka-gandhi-vadras-response-to-children-abusing-pm-narendra-modi-splits-2031310&amp;t=Elections+2019%3A+Priyanka+Gandhi%27s+Response+To+Children+Abusing+PM+Modi+Splits+Twitter', 900, 500);\"></a>,\n",
       " <a class=\"n_rd\" href=\"javascript:void(0);\" onclick=\"shareOpen('https://reddit.com/submit?url=https%3A%2F%2Fwww.ndtv.com%2Findia-news%2Flok-sabha-elections-2019-priyanka-gandhi-vadras-response-to-children-abusing-pm-narendra-modi-splits-2031310&amp;title=Elections+2019%3A+Priyanka+Gandhi%27s+Response+To+Children+Abusing+PM+Modi+Splits+Twitter', 900, 600);\"></a>,\n",
       " <a class=\"n_li\" href=\"javascript:void(0);\" onclick=\"shareOpen('https://www.linkedin.com/cws/share?url=https%3A%2F%2Fwww.ndtv.com%2Findia-news%2Flok-sabha-elections-2019-priyanka-gandhi-vadras-response-to-children-abusing-pm-narendra-modi-splits-2031310&amp;token=&amp;isFramed=true',550,550);\"></a>,\n",
       " <a class=\"email-icon3\" href=\"mailto:?subject=Elections+2019%3A+Priyanka+Gandhi%27s+Response+To+Children+Abusing+PM+Modi+Splits+Twitter&amp;body=Check out this link https://www.ndtv.com/india-news/lok-sabha-elections-2019-priyanka-gandhi-vadras-response-to-children-abusing-pm-narendra-modi-splits-2031310\" target=\"_blank\" title=\"Share by Email\"></a>,\n",
       " <a href=\"javascript:void(0);\" onclick=\"JavaScript:window.print();\"></a>,\n",
       " <a class=\"ndtv-detailp-comments-number\" href=\"javascript:void(0);\"></a>,\n",
       " <a class=\"showFilePanel\" href=\"javascript:void(0);\"><div class=\"comment_story\"><span><em class=\"ndtv-detailp-comments-count\"></em></span></div></a>,\n",
       " <a href=\"javascript:void(0);\" id=\"closeFilePanel\"></a>,\n",
       " <a href=\"https://www.ndtv.com/india\">Breaking news</a>,\n",
       " <a href=\"https://www.ndtv.com/\">News</a>,\n",
       " <a href=\"https://khabar.ndtv.com/videos/live/channel/ndtvindia\">NDTV India</a>,\n",
       " <a href=\"https://www.facebook.com/ndtv\">Facebook</a>,\n",
       " <a href=\"https://twitter.com/ndtv\">Twitter</a>,\n",
       " <a href=\"https://www.instagram.com/ndtv/\">Instagram</a>,\n",
       " <a href=\"https://www.ndtv.com/latest\">latest news</a>,\n",
       " <a href=\"https://www.ndtv.com/video/live/channel/ndtv24x7\">live news</a>,\n",
       " <a href=\"https://www.ndtv.com/india-news/howdy-modi-event-in-houston-us-to-be-addressed-by-pm-narendra-modi-sells-out-2088490?ndtv_nextstory\"><img alt=\"\" src=\"https://cdn.ndtv.com/static/ndtv_2014/images/next_blog_arrow_big_new.png\"/></a>,\n",
       " <a href=\"https://www.ndtv.com/india-news/howdy-modi-event-in-houston-us-to-be-addressed-by-pm-narendra-modi-sells-out-2088490?ndtv_nextstory\">\"Howdy, Modi!\" Event In US, To Be Addressed By PM, Sold Out</a>,\n",
       " <a href=\"https://www.ndtv.com/india-news/arun-jaitley-death-funeral-last-rites-at-delhi-nigam-bodh-ghat-tomorrow-jp-nadda-2089851?ndtv_prevstory\"><img alt=\"\" src=\"https://cdn.ndtv.com/static/ndtv_2014/images/prev_blog_arrow_big_new.png\"/></a>,\n",
       " <a href=\"https://www.ndtv.com/india-news/arun-jaitley-death-funeral-last-rites-at-delhi-nigam-bodh-ghat-tomorrow-jp-nadda-2089851?ndtv_prevstory\">Arun Jaitley's Last Rites At Delhi's Nigam Bodh Ghat Tomorrow: JP Nadda</a>,\n",
       " <a href=\"https://gadgets.ndtv.com/mobiles/news/redmi-note-8-pro-registrations-4500mah-battery-august-29-launch-date-camera-samples-xiaomi-2089417?News_Trending\"><img border=\"0\" class=\"imgbrd\" src=\"https://i.gadgets360cdn.com/large/redmi_note_8_pro_teaser_weibo_small_1566555552794.jpg\"/></a>,\n",
       " <a href=\"https://gadgets.ndtv.com/mobiles/news/redmi-note-8-pro-registrations-4500mah-battery-august-29-launch-date-camera-samples-xiaomi-2089417?News_Trending\">Redmi Note 8 Series Pre-Registrations Cross 1 Million Mark</a>,\n",
       " <a href=\"https://sports.ndtv.com/cricket/krishnappa-gowtham-smashes-unbeaten-century-takes-eight-wickets-in-karnataka-premier-league-match-2089689?News_Trending\"><img border=\"0\" class=\"imgbrd\" src=\"https://c.ndtvimg.com/2019-08/mt8f3lb8_krishnappa-gowtham-kpl-twitter_120x90_24_August_19.jpg\"/></a>,\n",
       " <a href=\"https://sports.ndtv.com/cricket/krishnappa-gowtham-smashes-unbeaten-century-takes-eight-wickets-in-karnataka-premier-league-match-2089689?News_Trending\">\"Krishnappa Premier League\": 134 Not Out And 8 Wickets In One T20 Match</a>,\n",
       " <a href=\"https://www.ndtv.com/entertainment/viral-angry-saif-ali-khan-yells-at-paparazzi-taking-pics-of-taimur-outside-their-home-2089479?News_Trending\"><img border=\"0\" class=\"imgbrd\" src=\"https://c.ndtvimg.com/2019-08/m49hicc8_saif-ali-khan_120x90_23_August_19.jpg\"/></a>,\n",
       " <a href=\"https://www.ndtv.com/entertainment/viral-angry-saif-ali-khan-yells-at-paparazzi-taking-pics-of-taimur-outside-their-home-2089479?News_Trending\">Angry Saif Yells At Paparazzi Taking Pics Of Taimur Outside Their Home</a>,\n",
       " <a href=\"https://www.ndtv.com/india-news/pm-modi-honoured-with-uaes-highest-civilian-award-order-of-zayed-2089849?ndtv_related\">PM Modi Honoured With UAE's Highest Civilian Award \"Order Of Zayed\"</a>,\n",
       " <a href=\"https://www.ndtv.com/india-news/arun-jaitleys-family-asks-pm-narendra-modi-not-to-cut-short-his-3-nation-visit-report-2089810?ndtv_related\">Arun Jaitley's Family Asks PM Not To Cut Short His 3-Nation Visit: Report</a>,\n",
       " <a href=\"https://www.ndtv.com/india-news/pm-narendra-modi-remembers-fiery-student-leader-arun-jaitley-during-emergency-2089791?ndtv_related\">PM Modi Remembers \"Fiery Student Leader\" Arun Jaitley During Emergency</a>,\n",
       " <a href=\"https://www.ndtv.com/topic/priyanka-gandhi-vadra\">Priyanka Gandhi Vadra</a>,\n",
       " <a href=\"https://www.ndtv.com/topic/pm-modi\">PM Modi</a>,\n",
       " <a href=\"https://www.ndtv.com/topic/priyanka-gandhi\">Priyanka Gandhi</a>,\n",
       " <a href=\"https://www.ndtv.com/tamil/lok-sabha-elections-2019-priyanka-response-to-children-abusing-pm-narendra-modi-splits-2031398\">தமிழில் படிக்க</a>,\n",
       " <a href=\"https://khabar.ndtv.com/news/lok-sabha-elections-2019/congress-priyanka-gandhi-response-to-children-abusing-pm-modi-splits-twitter-2031360\"> हिंदी में पढ़ें</a>,\n",
       " <a href=\"https://www.ndtv.com/india-news/arun-jaitley-senior-bjp-leader-and-former-union-minister-dies-at-66-2089743\" title=\"Arun Jaitley Death News\">Arun Jaitley</a>,\n",
       " <a href=\"https://khabar.ndtv.com/news/india/fomer-minister-and-bjp-leader-arun-jaitly-dies-at-66-2089744\" title=\"Arun Jaitley Nidhan\">Arun Jaitley Death</a>,\n",
       " <a href=\"https://www.ndtv.com/india-news/special-coverage-arun-jaitley-dies-at-66-leaders-across-party-lines-pay-respects-2089761\" title=\"Arun Jaitley\">Arun Jaitley News</a>,\n",
       " <a href=\"https://www.ndtv.com/india-news/happy-krishna-janmashtami-2019-wishes-quotes-wallpapers-pics-messages-images-of-lord-krishna-for-fac-2089203\" title=\"Krishna Janmashtami 2019\">Krishna Janmashtami</a>,\n",
       " <a href=\"https://www.ndtv.com/india-news/inx-media-case-live-updates-supreme-court-to-hear-p-chidambarams-plea-on-anticipatory-bail-today-2089186\" title=\"INX Media Case, Chidambaram\">INX Media Case</a>,\n",
       " <a href=\"https://www.ndtv.com/india-news/p-chidambaram-in-cbi-custody-till-monday-may-get-top-court-hearing-today-2089160\" title=\"Chidambaram News, INX Media Case\">P Chidambaram</a>,\n",
       " <a href=\"https://www.ndtv.com/india-news/krishna-janmashtami-2019-fast-date-know-about-10-iconic-krishna-temples-of-india-2088985\" title=\"Krishna Janmashtami Date 2019\">Janmashtami</a>,\n",
       " <a href=\"https://www.ndtv.com/business/itr-filing-income-tax-return-filing-online-deadline-nears-how-to-file-itr-verify-penalty-charges-2088129\" title=\"How to file Income Tax Return\">ITR Filing</a>,\n",
       " <a href=\"https://www.ndtv.com/indian-railway/pnr-status\" title=\"\">PNR Status</a>,\n",
       " <a href=\"https://hotdeals360.com/saaho-movie-85288\" title=\"Saaho Movie Ticket Offers, Booking\">Sahoo Movie</a>,\n",
       " <a href=\"https://gadgets.ndtv.com/entertainment/news/13-reasons-why-season-3-release-time-in-india-cast-netflix-date-2089262\" title=\"13 Reasons Why Season 3\">13 Reasons Why</a>,\n",
       " <a href=\"https://gadgets.ndtv.com/mobiles/news/redmi-note-8-pro-registrations-4500mah-battery-august-29-launch-date-camera-samples-xiaomi-2089417\" title=\"Redmi Note 8 Pro\">Redmi Note 8</a>,\n",
       " <a href=\"https://gadgets.ndtv.com/mobiles/news/motorola-one-action-vs-mi-a3-vs-realme-5-pro-vs-vivo-z1-pro-price-in-india-specifications-compared-2089814\" title=\"Motorola One Action Price\">Motorola One Action</a>,\n",
       " <a href=\"https://gadgets.ndtv.com/entertainment/news/ms-marvel-she-hulk-moon-knight-tv-series-marvel-mcu-disney-plus-d23-2089797\" title=\"D23 Expo - Ms. Marvel, She-Hulk, Moon Knight\">She Hulk</a>,\n",
       " <a href=\"javascript:void(0);\"><span>X</span></a>,\n",
       " <a data-tb-shadow-region-link=\"1\" href=\"https://www.ndtv.com/india-news/as-rahul-gandhi-opposition-leaders-head-to-jammu-and-kashmir-government-says-stay-away-2089677\"><img alt=\"Rahul Gandhi, Other Opposition Leaders Sent Back From Srinagar Airport\" border=\"0\" class=\"imgbrd\" data-tb-shadow-region-image=\"0\" src=\"https://c.ndtvimg.com/2019-08/a4ne6ne_rahul-gandhi_120x90_24_August_19.jpg\" title=\"Rahul Gandhi, Other Opposition Leaders Sent Back From Srinagar Airport\"/></a>,\n",
       " <a class=\"item-title\" data-tb-shadow-region-link=\"0\" data-tb-shadow-region-title=\"0\" href=\"https://www.ndtv.com/india-news/as-rahul-gandhi-opposition-leaders-head-to-jammu-and-kashmir-government-says-stay-away-2089677?stky\">Rahul Gandhi, Other Opposition Leaders Sent Back From Srinagar Airport</a>,\n",
       " <a data-tb-shadow-region-link=\"1\" href=\"https://www.ndtv.com/world-news/google-to-staff-do-work-hired-to-do-not-spend-time-on-non-work-topics-2089659\"><img alt='\"Do Work Hired To Do, Not Spend Time On Non-Work Topics\": Google To Staff' border=\"0\" class=\"imgbrd\" data-tb-shadow-region-image=\"0\" src=\"https://c.ndtvimg.com/2019-03/lgggqfvg_google-office-california-pixabay-240_120x90_05_March_19.jpg\" title='\"Do Work Hired To Do, Not Spend Time On Non-Work Topics\": Google To Staff'/></a>,\n",
       " <a class=\"item-title\" data-tb-shadow-region-link=\"0\" data-tb-shadow-region-title=\"0\" href=\"https://www.ndtv.com/world-news/google-to-staff-do-work-hired-to-do-not-spend-time-on-non-work-topics-2089659?stky\">\"Do Work Hired To Do, Not Spend Time On Non-Work Topics\": Google To Staff</a>,\n",
       " <a data-tb-shadow-region-link=\"1\" href=\"https://www.ndtv.com/india-news/arun-jaitley-senior-bjp-leader-and-former-union-minister-dies-at-66-2089743\"><img alt=\"Arun Jaitley, Senior BJP Leader And Former Union Minister, Dies At 66\" border=\"0\" class=\"imgbrd\" data-tb-shadow-region-image=\"0\" src=\"https://c.ndtvimg.com/2019-08/kh1416os_arun-jaitley-reuters-_120x90_17_August_19.jpg\" title=\"Arun Jaitley, Senior BJP Leader And Former Union Minister, Dies At 66\"/></a>,\n",
       " <a class=\"item-title\" data-tb-shadow-region-link=\"0\" data-tb-shadow-region-title=\"0\" href=\"https://www.ndtv.com/india-news/arun-jaitley-senior-bjp-leader-and-former-union-minister-dies-at-66-2089743?stky\">Arun Jaitley, Senior BJP Leader And Former Union Minister, Dies At 66</a>,\n",
       " <a data-tb-shadow-region-link=\"1\" href=\"https://www.ndtv.com/india-news/has-any-bjp-leader-asked-pm-narendra-modi-not-to-demonise-opposition-asks-kapil-sibal-2089733\"><img alt=\"Has Any BJP Leader Told PM Not To Demonise Opposition, Asks Kapil Sibal\" border=\"0\" class=\"imgbrd\" data-tb-shadow-region-image=\"0\" src=\"https://i.ndtvimg.com/i/2016-06/kapil-sibal_240x180_81467041951.jpg\" title=\"Has Any BJP Leader Told PM Not To Demonise Opposition, Asks Kapil Sibal\"/></a>,\n",
       " <a class=\"item-title\" data-tb-shadow-region-link=\"0\" data-tb-shadow-region-title=\"0\" href=\"https://www.ndtv.com/india-news/has-any-bjp-leader-asked-pm-narendra-modi-not-to-demonise-opposition-asks-kapil-sibal-2089733?stky\">Has Any BJP Leader Told PM Not To Demonise Opposition, Asks Kapil Sibal</a>,\n",
       " <a class=\"rss\" href=\"https://www.ndtv.com/rss\"><span>RSS</span></a>,\n",
       " <a class=\"news\" href=\"https://www.ndtv.com/convergence/ndtv/new/NDTVNewsAlert.aspx\"><span>News Alerts</span></a>,\n",
       " <a class=\"mobile\" href=\"https://www.ndtv.com/page/mobile-web\"><span>Mobile</span></a>,\n",
       " <a class=\"apps\" href=\"https://www.ndtv.com/page/apps\"><span>Apps</span></a>,\n",
       " <a class=\"apple\" href=\"https://www.ndtv.com/page/ios\"><span>Apple</span></a>,\n",
       " <a class=\"droid\" href=\"https://www.ndtv.com/page/android-web\"><span>Android</span></a>,\n",
       " <a class=\"fb\" href=\"https://www.facebook.com/campaign/landing.php?campaign_id=237467320636\"><span>Facebook</span></a>,\n",
       " <a class=\"twt\" href=\"https://twitter.com/ndtv\"><span>Twitter</span></a>,\n",
       " <a class=\"lnkdin\" href=\"https://www.linkedin.com/company/ndtv\"><span>LinkedIn</span></a>,\n",
       " <a href=\"https://www.ndtv.com/convergence/ndtv/corporatepage/index.aspx\">About Us</a>,\n",
       " <a href=\"http://archives.ndtv.com/index.html\">Archives</a>,\n",
       " <a href=\"https://www.ndtv.com/convergence/ndtv/advertise/ndtv_leaderboard.aspx\">Advertise</a>,\n",
       " <a href=\"https://www.ndtv.com/convergence/ndtv/new/feedback.aspx\">Feedback</a>,\n",
       " <a href=\"https://www.ndtv.com/convergence/ndtv/new/disclaimer.aspx\">Disclaimer</a>,\n",
       " <a href=\"https://www.ndtv.com/convergence/ndtv/corporatepage/investors.aspx\">Investor</a>,\n",
       " <a href=\"https://www.ndtv.com/convergence/ndtv/new/Complaint.aspx\">Complaint Redressal</a>,\n",
       " <a href=\"https://www.ndtv.com/soli\">Ombudsman</a>,\n",
       " <a href=\"https://www.ndtv.com/careers/\">Careers</a>,\n",
       " <a href=\"https://www.ndtv.com/convergence/ndtv/new/termsofusage.aspx\">Service Terms</a>,\n",
       " <a href=\"https://www.ndtv.com/convergence/ndtv/new/dth.aspx\">Channel Distribution</a>,\n",
       " <a class=\"twitter-share-button\" data-related=\"CricketNDTV : NDTV Cricket,moviesndtv : NDTV Movies,NDTVGadgets : NDTV Gadgets,NDTVProfit : NDTV Profit,NDTVCooks : NDTV Cooks,ndtvfeed : NDTV News Feed,ndtvvideos : NDTV Videos\" data-text=\"Elections 2019: Priyanka Gandhi's Response To Children Abusing PM Modi Splits Twitter\" data-url=\"https%3A%2F%2Fwww.ndtv.com%2Findia-news%2Flok-sabha-elections-2019-priyanka-gandhi-vadras-response-to-children-abusing-pm-narendra-modi-splits-2031310\" data-via=\"ndtv\" href=\"https://twitter.com/share?url=https%3A%2F%2Fwww.ndtv.com%2Findia-news%2Flok-sabha-elections-2019-priyanka-gandhi-vadras-response-to-children-abusing-pm-narendra-modi-splits-2031310\">Tweet</a>,\n",
       " <a href=\"https://www.reddit.com/submit\" onclick=\"window.open('https://www.reddit.com/submit?url=' + encodeURIComponent(window.location) + '&amp;title=Elections+2019%3A+Priyanka+Gandhi%27s+Response+To+Children+Abusing+PM+Modi+Splits+Twitter', '_blank'); return false;\" target=\"_blank\"><img alt=\"submit to reddit\" border=\"0\" src=\"https://cdn.ndtv.com/static/images/reddit-btn.png\"/></a>,\n",
       " <a data-flip-widget=\"flipit\" href=\"https://flipboard.com\" style=\"width:53px !important;\">Add to Flipboard Magazine.</a>,\n",
       " <a class=\"fn fl\" href=\"javascript:void(0)\" onclick=\"JavaScript:window.print();\" style=\"cursor: pointer;\"><img border=\"0\" class=\"marr5 float_l\" src=\"https://cdn.ndtv.com/static/ndtv_2014/images/printstory.png\"/></a>]"
      ]
     },
     "execution_count": 14,
     "metadata": {},
     "output_type": "execute_result"
    }
   ],
   "source": [
    "soup.find_all('a')"
   ]
  }
 ],
 "metadata": {
  "kernelspec": {
   "display_name": "Python 3",
   "language": "python",
   "name": "python3"
  },
  "language_info": {
   "codemirror_mode": {
    "name": "ipython",
    "version": 3
   },
   "file_extension": ".py",
   "mimetype": "text/x-python",
   "name": "python",
   "nbconvert_exporter": "python",
   "pygments_lexer": "ipython3",
   "version": "3.6.8"
  }
 },
 "nbformat": 4,
 "nbformat_minor": 2
}
