{
 "cells": [
  {
   "cell_type": "code",
   "execution_count": 1,
   "metadata": {
    "collapsed": true
   },
   "outputs": [],
   "source": [
    "import numpy as np\n",
    "import requests\n",
    "from bs4 import BeautifulSoup as bs\n",
    "import pandas as pd"
   ]
  },
  {
   "cell_type": "code",
   "execution_count": 2,
   "metadata": {
    "collapsed": true
   },
   "outputs": [],
   "source": [
    "class urlcont:\n",
    "    def __init__(self,url):\n",
    "        self.url=url\n",
    "        self.r = requests.get(url) \n",
    "        self.soup = bs(self.r.content, 'html5lib')\n",
    "        \n",
    "    def count_comments(self):\n",
    "        ans=[]\n",
    "        out=\"\"\n",
    "        comment=0\n",
    "        like=0\n",
    "        dislike=0\n",
    "        cou=self.soup.find_all('iframe')\n",
    "        sp=self.url.split(\"/\")\n",
    "        if sp[2]==\"www.ndtv.com\":\n",
    "            iframe=cou[len(cou)-1]\n",
    "        elif sp[2]==\"sports.ndtv.com\":\n",
    "            iframe=cou[0]\n",
    "        request=requests.get(iframe.attrs['src'])\n",
    "        iframe_soup=bs(request.content,'html5lib')\n",
    "        anc=iframe_soup.find_all('a')\n",
    "        for an in anc:\n",
    "            text=an.get_text()\n",
    "            text=text.strip()\n",
    "            out=text\n",
    "            if \"Like\"==text:\n",
    "                comment+=1\n",
    "            elif \"Unlike\"==text:\n",
    "                out=text\n",
    "            elif \"Like\" in text:\n",
    "                comment+=1\n",
    "                w=text.split(\" \")\n",
    "                e=w[1]\n",
    "                e=e.split(\"(\")\n",
    "                e=\"\".join(e)\n",
    "                e=e.split(\")\")\n",
    "                e=\"\".join(e)\n",
    "                like=like+int(e)\n",
    "            elif \"Unlike\" in text:\n",
    "                w=text.split(\" \")\n",
    "                e=w[1]\n",
    "                e=e.split(\"(\")\n",
    "                e=\"\".join(e)\n",
    "                e=e.split(\")\")\n",
    "                e=\"\".join(e)\n",
    "                dislike=dislike+int(e)\n",
    "        ans.append(comment)\n",
    "        ans.append(like)\n",
    "        ans.append(dislike)\n",
    "        if out==\"More Comments\":\n",
    "            ans.append(1) \n",
    "        else:\n",
    "            ans.append(0)\n",
    "        return ans\n",
    "            \n",
    "        "
   ]
  },
  {
   "cell_type": "code",
   "execution_count": 3,
   "metadata": {
    "collapsed": true
   },
   "outputs": [],
   "source": [
    "fname = 'primary.html' #this html file is stored on the same folder of the code file\n",
    "html_file = open(fname, 'r',encoding='utf-8')\n",
    "code = html_file.read() "
   ]
  },
  {
   "cell_type": "code",
   "execution_count": 4,
   "metadata": {
    "collapsed": true
   },
   "outputs": [],
   "source": [
    "r=bs(code,'html5lib')"
   ]
  },
  {
   "cell_type": "code",
   "execution_count": 38,
   "metadata": {
    "collapsed": true
   },
   "outputs": [],
   "source": [
    "urls=r.find('ul',id='ui-id-28')"
   ]
  },
  {
   "cell_type": "code",
   "execution_count": 39,
   "metadata": {
    "collapsed": true
   },
   "outputs": [],
   "source": [
    "anc=urls.find_all('a')"
   ]
  },
  {
   "cell_type": "code",
   "execution_count": null,
   "metadata": {},
   "outputs": [
    {
     "name": "stdout",
     "output_type": "stream",
     "text": [
      "https://www.ndtv.com/india-news/justice-dn-patel-recommended-by-supreme-court-collegium-for-next-delhi-high-court-chief-justice-2037121\n",
      "https://www.ndtv.com/india-news/lok-sabha-elections-2019-congress-raises-concerns-over-handling-of-evms-in-north-east-delhi-2037124\n",
      "https://www.ndtv.com/india-news/lok-sabha-election-results-2019-odisha-lok-sabha-result-to-be-declared-late-due-to-assembly-vote-cou-2037125\n",
      "https://www.ndtv.com/delhi-news/delhis-highest-voter-turnout-in-shakur-basti-lowest-in-cantonment-2037126\n",
      "https://www.ndtv.com/india-news/lok-sabha-election-2019-pm-narendra-modi-extends-attack-on-sam-pitroda-to-congress-forefathers-2037127\n",
      "https://www.ndtv.com/mumbai-news/ipl-2019-after-indian-premier-league-win-mumbai-indians-release-video-of-neeta-ambani-pep-talk-2037128\n",
      "https://www.ndtv.com/world-news/quetta-bombing-in-pakistan-kills-4-cops-injures-9-others-says-police-2037129\n",
      "https://www.ndtv.com/world-news/sri-lanka-anti-muslim-riots-kill-1-despite-curfew-2037131\n",
      "https://www.ndtv.com/delhi-news/retired-delhi-police-official-casts-vote-hours-after-cremating-son-2037132\n",
      "https://www.ndtv.com/india-news/election-commission-censures-milind-deora-for-jain-religion-remark-2037134\n",
      "https://www.ndtv.com/india-news/amit-shah-covers-301-lok-sabha-seats-for-bjps-poll-campaign-this-year-2037135\n",
      "https://www.ndtv.com/karnataka-news/cracks-in-karnataka-coalition-widen-as-leaders-trade-barbs-2037136\n",
      "https://www.ndtv.com/india-news/modi-wave-coming-from-every-home-in-india-say-pm-narendra-modi-at-rally-2037139\n",
      "https://www.ndtv.com/india-news/mamata-banerjee-calls-narendra-pm-modi-greatest-danger-for-country-2037141\n",
      "https://www.ndtv.com/india-news/hardik-patel-says-pm-narendra-modi-running-away-from-real-issues-2037142\n",
      "https://www.ndtv.com/india-news/jammu-and-kashmir-governor-satya-pal-malik-orders-to-fast-track-probe-in-bandipora-rape-case-2037143\n",
      "https://www.ndtv.com/delhi-news/aap-lawmaker-amanatullah-khan-supporters-charged-for-allegedly-assaulting-man-in-delhi-2037144\n",
      "https://www.ndtv.com/india-news/after-amit-shah-permission-denied-for-yogi-adityanaths-kolkata-poll-meet-2037146\n",
      "https://www.ndtv.com/india-news/after-bjp-leaders-jinnah-row-congress-mocks-bharatiya-jinnah-party-2037147\n",
      "https://www.ndtv.com/india-news/bjp-approaches-election-body-alleging-sabotage-of-rallies-in-bengal-2037149\n",
      "https://www.ndtv.com/india-news/710-companies-of-central-forces-to-be-deployed-in-bengal-on-polling-day-2037150\n",
      "https://www.ndtv.com/delhi-news/delhi-man-claims-mismatch-between-his-vote-and-evm-paper-trail-slip-2037152\n",
      "https://www.ndtv.com/delhi-news/delhi-man-stabbed-to-death-for-allegedly-protesting-lewd-remarks-on-daughter-2037153\n",
      "https://www.ndtv.com/science/the-moon-is-shrinking-wrinkling-due-to-earthquakes-study-2037155\n",
      "https://www.ndtv.com/world-news/donald-trump-says-will-meet-vladimir-putin-xi-jinping-at-g20-summit-in-japan-2037156\n",
      "https://www.ndtv.com/india-news/patna-bound-train-runs-over-cattle-in-up-stranded-for-3-hours-2037157\n",
      "https://www.ndtv.com/cities/cop-allegedly-shoots-self-with-service-gun-in-uttar-pradeshs-moradabad-2037158\n",
      "https://www.ndtv.com/cities/jalna-2-teenage-boys-drown-in-pond-in-maharashtra-2037159\n",
      "https://www.ndtv.com/pune-news/man-carrying-gold-in-rectum-arrested-at-pune-airport-2037160\n",
      "https://www.ndtv.com/india-news/drdo-successfully-conducts-flight-test-of-abhyas-2037161\n",
      "https://www.ndtv.com/cities/rajasthan-3-killed-1-hurt-in-roof-collapse-in-jodhpur-under-construction-building-2037162\n",
      "https://www.ndtv.com/world-news/desperate-housewives-actor-felicity-huffman-admits-role-in-us-college-admission-scandal-2037163\n",
      "https://www.ndtv.com/science/texas-inventor-victor-vescovo-finds-trash-littering-ocean-floor-in-deepest-ever-sub-dive-2037165\n",
      "https://www.ndtv.com/world-news/how-us-children-battling-cancer-ended-up-in-a-photo-shoot-2037166\n",
      "https://www.ndtv.com/world-news/appalachian-trail-attacker-threatened-to-burn-hikers-to-death-says-fbi-2037167\n",
      "https://www.ndtv.com/science/carbon-dioxide-levels-hit-historic-high-with-415-26-parts-per-million-2037169\n",
      "https://www.ndtv.com/world-news/donald-trump-says-it-makes-sense-for-us-to-get-along-with-russia-2037170\n",
      "https://www.ndtv.com/india-news/lok-sabha-elections-2019-akhilesh-yadav-takes-dig-at-pm-modi-asks-people-how-did-the-chai-taste-2037172\n",
      "https://www.ndtv.com/world-news/tiger-woods-sued-over-restaurant-staffers-drink-driving-death-report-2037173\n",
      "https://www.ndtv.com/world-news/us-president-donald-trump-on-china-amid-trade-dispute-love-the-position-we-are-in-2037174\n",
      "https://www.ndtv.com/world-news/amazon-offers-employees-10-000-to-quit-launch-delivery-business-2037175\n",
      "https://www.ndtv.com/education/ap-ssc-results-2019-live-updates-2037177\n",
      "https://www.ndtv.com/world-news/former-us-president-jimmy-carter-undergoes-surgery-after-fall-2037178\n",
      "https://www.ndtv.com/india-news/pune-member-of-chhota-rajans-gang-arrested-2037179\n",
      "https://www.ndtv.com/world-news/donald-trump-seeks-extra-1-6-billion-in-nasa-spending-to-send-americans-to-moon-2037180\n",
      "https://www.ndtv.com/world-news/donald-trump-says-it-would-be-big-mistake-for-iran-to-try-anything-against-us-2037181\n",
      "https://www.ndtv.com/andhra-pradesh-news/2-500-kg-cannabis-seized-in-visakhapatnam-two-arrested-2037182\n",
      "https://www.ndtv.com/education/aicte-approves-five-courses-of-ftii-2037183\n",
      "https://www.ndtv.com/world-news/georgias-ex-president-giorgi-margvelashvili-swaps-politics-for-life-of-an-airbnb-landlord-2037184\n",
      "https://www.ndtv.com/kolkata-news/massive-fire-breaks-out-at-resort-near-kolkata-2037186\n",
      "https://www.ndtv.com/education/queens-university-in-belfast-signs-mou-with-tezpur-varsity-for-doctoral-programmes-2037187\n",
      "https://www.ndtv.com/education/hc-grants-interim-relief-to-du-student-allows-her-to-appear-in-examination-2037189\n",
      "https://www.ndtv.com/world-news/f1-car-sent-to-cancer-stricken-boy-who-inspired-lewis-hamiltons-spanish-gp-win-2037190\n",
      "https://www.ndtv.com/world-news/twitter-accidentally-shares-user-location-data-with-advertising-partner-2037193\n",
      "https://www.ndtv.com/offbeat/watch-dad-trains-dog-to-make-sure-daughter-does-homework-2037194\n",
      "https://www.ndtv.com/india-news/lok-sabha-elections-2019-k-c-venugopal-several-bjp-mlas-will-join-congress-after-poll-results-2037195\n",
      "https://www.ndtv.com/business/sensex-today-stock-market-updates-may-14-2019-sensex-nifty-fall-in-early-trade-2037197\n",
      "https://www.ndtv.com/business/tamil/sensex-today-stock-market-updates-14-5-2019-sensex-nifty-fall-in-early-trade-2037270\n",
      "https://sports.ndtv.com/formula-1/lewis-hamiltons-mercedes-f1-car-sent-to-cancer-stricken-boy-2037198\n",
      "https://www.ndtv.com/india-news/lok-sabha-elections-2019-bjp-workers-evicted-from-bengals-barasat-hotel-after-trinamool-candidate-al-2037199\n",
      "https://www.ndtv.com/india-news/lok-sabha-election-live-updates-pm-modi-to-address-rallies-in-up-bihar-and-punjab-today-2037204\n",
      "https://www.ndtv.com/world-news/victims-of-alleged-us-sex-cult-followed-near-starvation-diets-on-keith-ranieres-direction-mark-vicen-2037206\n",
      "https://www.ndtv.com/entertainment/mahesh-babu-is-all-smiles-as-he-celebrates-maharshi-success-pic-courtesy-namrata-shirodkar-2037208\n",
      "https://www.ndtv.com/world-news/us-president-donald-trump-hosts-iftar-at-white-house-to-mark-ramadan-2037210\n",
      "https://www.ndtv.com/education/mp-board-results-2019-mpresults-nic-in-mpbse-nic-in-2037211\n",
      "https://www.ndtv.com/offbeat/man-sets-world-record-for-highest-speed-reached-on-a-tuk-tuk-2037212\n",
      "https://www.ndtv.com/indians-abroad/indian-origin-woman-shamdai-arjun-convicted-of-killing-9-year-old-stepdaughter-2037213\n",
      "https://www.ndtv.com/india-news/wanted-jaish-terrorist-abdul-majeed-baba-carrying-2-lakh-reward-arrested-in-srinagar-2037218\n",
      "https://sports.ndtv.com/football/uefa-panel-to-recommend-manchester-city-champions-league-ban-report-2037221\n",
      "https://www.ndtv.com/world-news/st-louis-missouri-shooting-in-st-louis-kills-three-wounds-two-says-media-2037227\n",
      "https://www.ndtv.com/business/jet-airways-crisis-jet-airways-deputy-chief-executive-chief-financial-officer-amit-agarwal-quits-2037228\n",
      "https://www.ndtv.com/business/tamil/jet-airways-deputy-ceo-amit-agarwal-steps-down-cites-personal-reasons-2037335\n",
      "https://www.ndtv.com/education/ap-ssc-results-2019-manabadi-bseap-org-rtgs-ap-gov-in-2037229\n"
     ]
    },
    {
     "name": "stdout",
     "output_type": "stream",
     "text": [
      "https://www.ndtv.com/entertainment/shahid-kapoor-on-toxic-masculinity-in-kabir-singh-cinema-not-about-perfect-people-2037230\n",
      "https://www.ndtv.com/entertainment/anushka-sharma-reveals-why-she-hasnt-signed-a-new-film-after-zero-2037234\n",
      "https://www.ndtv.com/business/hindi/share-market-news-on-14-may-2037239\n",
      "https://www.ndtv.com/education/ap-ssc-results-2019-bseap-org-direct-links-2037242\n",
      "https://www.ndtv.com/opinion/modi-interviews-packed-with-lines-rg-could-never-get-away-with-2037244\n",
      "https://www.ndtv.com/entertainment/game-of-thrones-8-cersei-at-cleganebowl-memes-are-pure-laughter-therapy-spoiler-alert-2037246\n",
      "https://www.ndtv.com/world-news/donald-trump-feels-us-china-trade-talks-going-to-be-very-successful-2037247\n",
      "https://www.ndtv.com/india-news/elections-2019-priyanka-gandhi-stops-convoy-shakes-hands-with-pm-narendra-modi-supporters-in-indore-2037249\n",
      "https://www.ndtv.com/world-news/trump-says-us-farmers-to-get-15-billion-in-aid-amid-china-trade-war-2037252\n",
      "https://www.ndtv.com/world-news/alaska-five-dead-one-missing-in-floatplanes-collision-2037253\n",
      "https://www.ndtv.com/india-news/lok-sabha-polls-2019-congresss-mani-shankar-aiyar-revives-neech-controversy-was-i-not-prophetic-2037254\n",
      "https://www.ndtv.com/education/manabadi-ap-ssc-result-2019-list-of-bseap-rtgs-websites-apps-2037255\n",
      "https://www.ndtv.com/india-news/lok-sabha-elections-2019-pm-modi-addresses-rally-in-uttar-pradesh-live-updates-2037257\n",
      "https://www.ndtv.com/india-news/lok-sabha-polls-2019-pm-narendra-modis-government-a-sinking-ship-proof-is-that-even-rss-has-abandone-2037266\n",
      "https://www.ndtv.com/education/ap-class-10-results-2019-andhra-ssc-results-released-bseap-org-manabadi-com-2037272\n",
      "https://www.ndtv.com/health/are-your-iron-levels-low-here-are-4-easy-yet-effective-home-remedies-by-twinkle-khanna-to-increase-i-2037275\n",
      "https://sports.ndtv.com/cricket/ms-dhoni-goes-wrong-lot-of-times-with-his-tips-reveals-kuldeep-yadav-2037279\n",
      "https://www.ndtv.com/entertainment/tabu-says-de-de-pyaar-de-is-not-about-two-women-vying-for-a-man-2037280\n",
      "https://www.ndtv.com/cities/businessman-killed-his-body-burnt-in-forest-in-maharashtras-palghar-2037281\n",
      "https://www.ndtv.com/entertainment/deepika-padukones-rofl-adventures-in-the-gym-cannes-here-she-comes-2037283\n",
      "https://www.ndtv.com/education/ap-ssc-results-announced-bseap-org-website-crashes-2037287\n",
      "https://www.ndtv.com/world-news/tesla-model-s-catches-fire-in-hong-kong-parking-lot-report-2037290\n",
      "https://www.ndtv.com/education/mizoram-class-12th-result-declared-know-how-to-check-2037293\n",
      "https://www.ndtv.com/india-news/a-grave-threat-ban-on-ltte-extended-for-5-years-says-home-ministry-2037296\n",
      "https://www.ndtv.com/entertainment/aamir-khan-did-not-forget-sunny-leones-birthday-what-he-tweeted-2037297\n",
      "https://www.ndtv.com/india-news/lok-sabha-elections-2019-stalin-pours-cold-water-on-kcr-plans-says-dont-see-chance-for-third-front-2037301\n",
      "https://www.ndtv.com/offbeat/game-of-thrones-did-hbo-forget-to-edit-jaimes-hand-in-season-8-episode-5-2037305\n",
      "https://www.ndtv.com/india-news/supreme-court-refuses-to-hear-karti-chidambarams-plea-for-return-of-rs-10-crore-security-deposit-2037306\n",
      "https://www.ndtv.com/world-news/uks-theresa-may-under-pressure-to-ditch-brexit-talks-with-opposition-2037314\n",
      "https://www.ndtv.com/india-news/supreme-court-orders-release-of-bjp-activist-priyanka-sharma-who-shared-mamata-banerjees-morphed-pho-2037315\n",
      "https://www.ndtv.com/business/inflation-data-economic-data-government-releases-wholesale-inflation-data-for-april-2037318\n",
      "https://www.ndtv.com/entertainment/cannes-film-festival-5-rising-stars-to-watch-out-for-2037322\n",
      "https://sports.ndtv.com/cricket/mi-vs-csk-harbhajan-singh-reveals-shane-watson-batted-in-ipl-final-with-massive-handicap-2037326\n",
      "https://www.ndtv.com/entertainment/game-of-thrones-8-mad-daenerys-made-emilia-clarke-gain-a-bottle-and-lose-her-hair-spoiler-alert-2037329\n",
      "https://www.ndtv.com/education/jee-main-answer-key-2019-know-how-to-download-2037331\n",
      "https://www.ndtv.com/indians-abroad/in-2019-us-presidential-scholars-list-indian-american-students-account-for-more-than-10-per-cent-2037334\n",
      "https://www.ndtv.com/business/irctc-tatkal-tatkal-train-ticket-cancellation-rules-reservation-booking-cancellation-charges-timings-2037337\n",
      "https://www.ndtv.com/business/hindi/government-releases-data-wholesale-inflation-at-3-07-percent-in-april-2037342\n",
      "https://www.ndtv.com/entertainment/trending-chhavi-mittal-welcomes-son-after-prolonged-pregnancy-shares-pic-2037344\n",
      "https://www.ndtv.com/india-news/lok-sabha-elections-2019-imran-khan-should-ensure-terror-wiped-out-completely-from-pak-rajnath-singh-2037348\n",
      "https://www.ndtv.com/india-news/chanda-kochhar-husband-appear-before-enforcement-directorate-again-2037358\n",
      "https://www.ndtv.com/india-news/lok-sabha-elections-2019-opposition-should-reveal-its-pm-candidate-says-rajnath-singh-2037363\n",
      "https://www.ndtv.com/india-news/lok-sabha-elections-2019-prime-minister-narendra-modi-challenges-opposition-to-prove-if-he-has-amass-2037364\n",
      "https://www.ndtv.com/business/vodafone-ceo-nick-read-slashes-dividend-to-tackle-debt-burden-2037365\n",
      "https://www.ndtv.com/education/rbse-result-2019-12th-science-commerce-results-rajresults-nic-in-rajeduboard-rajasthan-gov-in-2037381\n",
      "https://www.ndtv.com/india-news/priyadarshini-mattoos-killer-gets-3-week-parole-to-write-law-exam-2037386\n",
      "https://www.ndtv.com/india-news/andhra-pradesh-17-year-old-girl-dies-as-ferris-wheel-cabin-crashes-2037387\n",
      "https://www.ndtv.com/india-news/after-mayawatis-dramebazzi-remark-pm-narendra-modi-says-have-one-caste-poverty-2037388\n",
      "https://www.ndtv.com/entertainment/shahid-kapoor-is-happy-after-kabir-singh-clash-with-mental-hai-kya-was-averted-2037392\n",
      "https://www.ndtv.com/india-news/116-iron-nails-wire-removed-from-mans-stomach-in-rajathans-bundi-2037395\n",
      "https://sports.ndtv.com/cricket/kagiso-rabada-likely-to-be-fully-fit-ahead-of-2019-world-cup-2037396\n",
      "https://www.ndtv.com/business/sensex-today-stock-market-updates-may-14-2019-sensex-jumps-over-450-points-from-days-low-2037400\n",
      "https://www.ndtv.com/offbeat/why-more-and-more-millennials-are-choosing-to-become-pod-people-2037401\n",
      "https://www.ndtv.com/entertainment/cannes-2019-hotels-get-1-billion-facelift-for-film-festival-2037402\n",
      "https://www.ndtv.com/business/petrol-diesel-rate-on-may-14-heres-how-much-you-pay-for-petrol-diesel-on-tuesday-2037403\n",
      "https://www.ndtv.com/entertainment/student-of-the-year-2-box-office-collection-day-4-tiger-shroff-ananya-panday-and-tara-sutarias-film-2037404\n",
      "https://www.ndtv.com/india-news/india-backs-nigerias-tijjani-muhammad-bande-as-un-general-assemblys-next-president-2037406\n",
      "https://www.ndtv.com/india-news/delhi-election-results-2019-all-you-need-to-know-about-delhi-lok-sabha-poll-outcome-2037408\n",
      "https://www.ndtv.com/india-news/lok-sabha-elections-2019-rahul-gandhis-rain-and-radar-dig-at-pm-modi-after-balakot-comments-2037411\n",
      "https://www.ndtv.com/mumbai-news/man-arrested-for-allegedly-raping-37-year-old-woman-at-mumbai-hospital-2037418\n",
      "https://www.ndtv.com/business/jet-airways-crisis-jet-airways-share-price-plunges-13-per-cent-deputy-ceo-amit-agarwal-quits-2037419\n",
      "https://www.ndtv.com/entertainment/ram-arjun-and-finally-bharat-how-salman-khans-film-got-its-name-2037423\n",
      "https://www.ndtv.com/education/assam-hslc-result-2019-seba-10th-hslc-results-results-sebaonline-org-resultsassam-nic-in-2037425\n",
      "https://www.ndtv.com/world-news/new-zealand-pm-jacinda-ardern-returns-girls-dragon-research-bribe-2037426\n",
      "https://www.ndtv.com/kolkata-news/normal-services-restored-at-kolkata-airport-after-9-hours-official-2037429\n",
      "https://www.ndtv.com/business/indigo-offers-domestic-flight-tickets-from-999-rupees-check-routes-dates-here-2037432\n",
      "https://www.ndtv.com/business/aurobindo-pharma-share-price-aurobindo-pharma-news-lawsuit-filed-in-us-against-aurobindo-pharma-othe-2037437\n",
      "https://www.ndtv.com/india-news/lol-sabha-elections-2019-nitish-kumar-says-lalu-will-never-get-out-of-jail-tejashwi-yadav-responds-2037438\n",
      "https://www.ndtv.com/india-news/soldier-who-survived-pulwama-attack-shares-lunch-with-boy-see-crpf-video-2037441\n",
      "https://www.ndtv.com/goa-news/goa-congress-files-complaint-with-poll-body-against-vijai-sardesai-2037443\n"
     ]
    }
   ],
   "source": [
    "final_ans=[]\n",
    "inner=[]\n",
    "for href in anc:\n",
    "    url=href.attrs['href']\n",
    "    sp=url.split(\"/\")\n",
    "    if (sp[2]==\"www.ndtv.com\")or sp[2]==\"sports.ndtv.com\":\n",
    "        if sp[3]!=\"tamil\" and sp[3]!=\"bengali\" and sp[3]!=\"hindi\":\n",
    "            a=urlcont(url)\n",
    "            print(url)\n",
    "            b=a.count_comments()\n",
    "            inner=[]\n",
    "            inner.append(14)\n",
    "            inner.append(url)\n",
    "            inner.append(b[0])\n",
    "            inner.append(b[1])\n",
    "            inner.append(b[2])\n",
    "            inner.append(b[3])\n",
    "            final_ans.append(inner)"
   ]
  },
  {
   "cell_type": "code",
   "execution_count": 37,
   "metadata": {},
   "outputs": [
    {
     "name": "stdout",
     "output_type": "stream",
     "text": [
      "[13, 'https://www.ndtv.com/world-news/panama-strong-6-1-magnitude-earthquake-hits-panama-2036623', 0, 0, 0, 0]\n"
     ]
    }
   ],
   "source": [
    "print(final_ans[10])"
   ]
  },
  {
   "cell_type": "code",
   "execution_count": 31,
   "metadata": {
    "collapsed": true
   },
   "outputs": [],
   "source": [
    "import pandas as pd\n",
    "data=pd.DataFrame(final_ans,columns=['Date','URL','comments','likes','dislikes','recheck'])"
   ]
  },
  {
   "cell_type": "code",
   "execution_count": 32,
   "metadata": {},
   "outputs": [
    {
     "data": {
      "text/html": [
       "<div>\n",
       "<style>\n",
       "    .dataframe thead tr:only-child th {\n",
       "        text-align: right;\n",
       "    }\n",
       "\n",
       "    .dataframe thead th {\n",
       "        text-align: left;\n",
       "    }\n",
       "\n",
       "    .dataframe tbody tr th {\n",
       "        vertical-align: top;\n",
       "    }\n",
       "</style>\n",
       "<table border=\"1\" class=\"dataframe\">\n",
       "  <thead>\n",
       "    <tr style=\"text-align: right;\">\n",
       "      <th></th>\n",
       "      <th>Date</th>\n",
       "      <th>URL</th>\n",
       "      <th>comments</th>\n",
       "      <th>likes</th>\n",
       "      <th>dislikes</th>\n",
       "      <th>recheck</th>\n",
       "    </tr>\n",
       "  </thead>\n",
       "  <tbody>\n",
       "    <tr>\n",
       "      <th>0</th>\n",
       "      <td>13</td>\n",
       "      <td>https://www.ndtv.com/india-news/bankura-distri...</td>\n",
       "      <td>1</td>\n",
       "      <td>13</td>\n",
       "      <td>13</td>\n",
       "      <td>0</td>\n",
       "    </tr>\n",
       "    <tr>\n",
       "      <th>1</th>\n",
       "      <td>13</td>\n",
       "      <td>https://sports.ndtv.com/cricket/mumbai-indians...</td>\n",
       "      <td>0</td>\n",
       "      <td>0</td>\n",
       "      <td>0</td>\n",
       "      <td>0</td>\n",
       "    </tr>\n",
       "    <tr>\n",
       "      <th>2</th>\n",
       "      <td>13</td>\n",
       "      <td>https://www.ndtv.com/indians-abroad/uk-man-lau...</td>\n",
       "      <td>0</td>\n",
       "      <td>0</td>\n",
       "      <td>0</td>\n",
       "      <td>0</td>\n",
       "    </tr>\n",
       "    <tr>\n",
       "      <th>3</th>\n",
       "      <td>13</td>\n",
       "      <td>https://www.ndtv.com/india-news/supreme-court-...</td>\n",
       "      <td>1</td>\n",
       "      <td>4</td>\n",
       "      <td>0</td>\n",
       "      <td>0</td>\n",
       "    </tr>\n",
       "    <tr>\n",
       "      <th>4</th>\n",
       "      <td>13</td>\n",
       "      <td>https://www.ndtv.com/karnataka-news/welcome-to...</td>\n",
       "      <td>8</td>\n",
       "      <td>353</td>\n",
       "      <td>219</td>\n",
       "      <td>0</td>\n",
       "    </tr>\n",
       "    <tr>\n",
       "      <th>5</th>\n",
       "      <td>13</td>\n",
       "      <td>https://www.ndtv.com/india-news/lok-sabha-elec...</td>\n",
       "      <td>7</td>\n",
       "      <td>97</td>\n",
       "      <td>62</td>\n",
       "      <td>0</td>\n",
       "    </tr>\n",
       "    <tr>\n",
       "      <th>6</th>\n",
       "      <td>13</td>\n",
       "      <td>https://www.ndtv.com/india-news/lok-sabha-elec...</td>\n",
       "      <td>0</td>\n",
       "      <td>0</td>\n",
       "      <td>0</td>\n",
       "      <td>0</td>\n",
       "    </tr>\n",
       "    <tr>\n",
       "      <th>7</th>\n",
       "      <td>13</td>\n",
       "      <td>https://sports.ndtv.com/cricket/ms-dhoni-gives...</td>\n",
       "      <td>2</td>\n",
       "      <td>54</td>\n",
       "      <td>54</td>\n",
       "      <td>0</td>\n",
       "    </tr>\n",
       "    <tr>\n",
       "      <th>8</th>\n",
       "      <td>13</td>\n",
       "      <td>https://sports.ndtv.com/tennis/novak-djokovic-...</td>\n",
       "      <td>0</td>\n",
       "      <td>0</td>\n",
       "      <td>0</td>\n",
       "      <td>0</td>\n",
       "    </tr>\n",
       "    <tr>\n",
       "      <th>9</th>\n",
       "      <td>13</td>\n",
       "      <td>https://sports.ndtv.com/cricket/rohit-sharma-c...</td>\n",
       "      <td>1</td>\n",
       "      <td>27</td>\n",
       "      <td>26</td>\n",
       "      <td>0</td>\n",
       "    </tr>\n",
       "  </tbody>\n",
       "</table>\n",
       "</div>"
      ],
      "text/plain": [
       "   Date                                                URL  comments  likes  \\\n",
       "0    13  https://www.ndtv.com/india-news/bankura-distri...         1     13   \n",
       "1    13  https://sports.ndtv.com/cricket/mumbai-indians...         0      0   \n",
       "2    13  https://www.ndtv.com/indians-abroad/uk-man-lau...         0      0   \n",
       "3    13  https://www.ndtv.com/india-news/supreme-court-...         1      4   \n",
       "4    13  https://www.ndtv.com/karnataka-news/welcome-to...         8    353   \n",
       "5    13  https://www.ndtv.com/india-news/lok-sabha-elec...         7     97   \n",
       "6    13  https://www.ndtv.com/india-news/lok-sabha-elec...         0      0   \n",
       "7    13  https://sports.ndtv.com/cricket/ms-dhoni-gives...         2     54   \n",
       "8    13  https://sports.ndtv.com/tennis/novak-djokovic-...         0      0   \n",
       "9    13  https://sports.ndtv.com/cricket/rohit-sharma-c...         1     27   \n",
       "\n",
       "   dislikes  recheck  \n",
       "0        13        0  \n",
       "1         0        0  \n",
       "2         0        0  \n",
       "3         0        0  \n",
       "4       219        0  \n",
       "5        62        0  \n",
       "6         0        0  \n",
       "7        54        0  \n",
       "8         0        0  \n",
       "9        26        0  "
      ]
     },
     "execution_count": 32,
     "metadata": {},
     "output_type": "execute_result"
    }
   ],
   "source": [
    "data.head(10)"
   ]
  },
  {
   "cell_type": "code",
   "execution_count": 33,
   "metadata": {
    "collapsed": true
   },
   "outputs": [],
   "source": [
    "data1=data[data['comments']>=10]\n",
    "data2=data[(data.comments >= 5) & (data.comments <10)]\n",
    "data3=data[(data.comments >0) & (data.comments <5)]\n",
    "data4=data[data['comments']==0]\n",
    "\n",
    "data1=data1.sort_values('comments',ascending=False)\n",
    "data2=data2.sort_values('comments',ascending=False)\n",
    "data3=data3.sort_values('comments',ascending=False)\n",
    "data4=data4.sort_values('comments',ascending=False)"
   ]
  },
  {
   "cell_type": "code",
   "execution_count": 34,
   "metadata": {
    "collapsed": true
   },
   "outputs": [],
   "source": [
    "samp1=data1.sample(n=6)\n",
    "samp2=data2.sample(n=6)\n",
    "samp3=data3.sample(n=6)\n",
    "samp4=data4.sample(n=2)"
   ]
  },
  {
   "cell_type": "code",
   "execution_count": 35,
   "metadata": {
    "collapsed": true
   },
   "outputs": [],
   "source": [
    "samp=pd.concat([samp1,samp2,samp3,samp4],axis=0)\n",
    "samp.shape\n",
    "output=samp.values"
   ]
  },
  {
   "cell_type": "code",
   "execution_count": 36,
   "metadata": {
    "collapsed": true
   },
   "outputs": [],
   "source": [
    "import csv\n",
    "\n",
    "with open('MAY_links.csv', 'a') as employee_file:\n",
    "    employee_writer = csv.writer(employee_file, delimiter=',', quotechar='\"', quoting=csv.QUOTE_MINIMAL)\n",
    "    for i in output:\n",
    "        employee_writer.writerow(i)"
   ]
  },
  {
   "cell_type": "code",
   "execution_count": 88,
   "metadata": {},
   "outputs": [
    {
     "name": "stdout",
     "output_type": "stream",
     "text": [
      "tamil\n"
     ]
    }
   ],
   "source": [
    "url='https://sports.ndtv.com/tamil/ipl-2019/ipl-2019-bumrah-hardik-star-as-mi-outshine-srh-to-qualify-for-playoffs-2032281'\n",
    "spli=url.split(\"/\")\n",
    "print(spli[3])"
   ]
  }
 ],
 "metadata": {
  "kernelspec": {
   "display_name": "Python 3",
   "language": "python",
   "name": "python3"
  },
  "language_info": {
   "codemirror_mode": {
    "name": "ipython",
    "version": 3
   },
   "file_extension": ".py",
   "mimetype": "text/x-python",
   "name": "python",
   "nbconvert_exporter": "python",
   "pygments_lexer": "ipython3",
   "version": "3.6.8"
  }
 },
 "nbformat": 4,
 "nbformat_minor": 2
}
