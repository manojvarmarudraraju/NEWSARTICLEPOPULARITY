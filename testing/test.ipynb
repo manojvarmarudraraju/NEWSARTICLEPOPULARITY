{
 "cells": [
  {
   "cell_type": "code",
   "execution_count": 3,
   "metadata": {
    "collapsed": true
   },
   "outputs": [],
   "source": [
    "import numpy as np\n",
    "import requests\n",
    "from bs4 import BeautifulSoup as bs\n",
    "import pandas as pd"
   ]
  },
  {
   "cell_type": "code",
   "execution_count": 9,
   "metadata": {
    "collapsed": true
   },
   "outputs": [],
   "source": [
    "url=\"https://www.ndtv.com/india-news/rahul-gandhi-gets-election-body-notice-over-anti-tribal-law-claim-2031610\""
   ]
  },
  {
   "cell_type": "code",
   "execution_count": 10,
   "metadata": {
    "collapsed": true
   },
   "outputs": [],
   "source": [
    "r = requests.get(url) \n",
    "soup = bs(r.content, 'html5lib')"
   ]
  },
  {
   "cell_type": "code",
   "execution_count": 11,
   "metadata": {},
   "outputs": [
    {
     "name": "stdout",
     "output_type": "stream",
     "text": [
      "[<iframe allowtransparency=\"true\" class=\"twitter-follow-button twitter-follow-button\" data-twttr-rendered=\"true\" frameborder=\"0\" id=\"twitter-widget-0\" scrolling=\"no\" src=\"https://platform.twitter.com/widgets/follow_button.html?screen_name=ndtv\" style=\"width: 189px; height: 20px;\" title=\"Twitter Follow Button\"></iframe>, <iframe allowtransparency=\"true\" frameborder=\"0\" scrolling=\"no\" src=\"https://www.facebook.com/plugins/like.php?app_id=266717333353449&amp;href=http%3A%2F%2Fwww.facebook.com%2Fndtv&amp;send=false&amp;layout=button_count&amp;width=100&amp;show_faces=false&amp;action=like&amp;colorscheme=light&amp;font&amp;height=21\" style=\"border:none; overflow:hidden; width:100px; height:21px;\"></iframe>, <iframe allowtransparency=\"true\" frameborder=\"0\" scrolling=\"no\" src=\"https://www.ndtv.com/video/embed-player/?id=513955&amp;category=embed&amp;autostart=1&amp;pWidth=650&amp;pHeight=403&amp;embed_type=story&amp;autostart=1\" style=\"border:none; overflow:hidden; width:650px; height:403px; padding-bottom: 0px;padding-left:0px;\"></iframe>, <iframe allowtransparency=\"true\" frameborder=\"0\" height=\"98%\" id=\"ndtvSocialCommentFormRhs\" name=\"ndtvSocialCommentForm\" scrolling=\"no\" src=\"https://social.ndtv.com/static/Comment/Widget/?&amp;key=68a2a311a51a713dad2e777d65ec4db4&amp;link=https%3A%2F%2Fwww.ndtv.com%2Findia-news%2Frahul-gandhi-gets-election-body-notice-over-anti-tribal-law-claim-2031610&amp;title=Rahul+Gandhi+Gets+Election+Body+Notice+Over+%22Anti-Tribal+Law%22+Claim&amp;ctype=story-news&amp;identifier=story-news-2031610&amp;enableCommentsSubscription=1&amp;ver=1&amp;reply=1&amp;sorted_by=newest&amp;template=slide&amp;layout=rhs\" width=\"320px\"></iframe>]\n"
     ]
    }
   ],
   "source": [
    "cou=soup.find_all('iframe')\n",
    "print(cou)"
   ]
  }
 ],
 "metadata": {
  "kernelspec": {
   "display_name": "Python 3",
   "language": "python",
   "name": "python3"
  },
  "language_info": {
   "codemirror_mode": {
    "name": "ipython",
    "version": 3
   },
   "file_extension": ".py",
   "mimetype": "text/x-python",
   "name": "python",
   "nbconvert_exporter": "python",
   "pygments_lexer": "ipython3",
   "version": "3.6.8"
  }
 },
 "nbformat": 4,
 "nbformat_minor": 2
}
